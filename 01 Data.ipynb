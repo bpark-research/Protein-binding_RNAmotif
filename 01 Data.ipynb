{
 "cells": [
  {
   "cell_type": "code",
   "execution_count": 4,
   "metadata": {},
   "outputs": [],
   "source": [
    "import time\n",
    "import os\n",
    "import sys\n",
    "import pickle\n",
    "import zipfile\n",
    "from data.RNAGraph import RNAGraphDatasetDGL"
   ]
  },
  {
   "cell_type": "code",
   "execution_count": null,
   "metadata": {},
   "outputs": [],
   "source": [
    "basedir = os.getcwd()\n",
    "print(basedir)"
   ]
  },
  {
   "cell_type": "code",
   "execution_count": null,
   "metadata": {},
   "outputs": [],
   "source": [
    "#data_zip = zipfile.ZipFile()"
   ]
  },
  {
   "cell_type": "code",
   "execution_count": null,
   "metadata": {},
   "outputs": [],
   "source": [
    "dataset_list = [\n",
    "    \"ALKBH5_Baltz2012\",\n",
    "    \"C17ORF85_Baltz2012\",\n",
    "    \"C22ORF28_Baltz2012\",\n",
    "    \"CAPRIN1_Baltz2012\",\n",
    "    \"CLIPSEQ_AGO2\",\n",
    "    \"CLIPSEQ_ELAVL1\",\n",
    "    \"CLIPSEQ_SFRS1\",\n",
    "    \"ICLIP_HNRNPC\",\n",
    "    \"ICLIP_TDP43\",\n",
    "    \"ICLIP_TIA1\",\n",
    "    \"ICLIP_TIAL1\",\n",
    "    \"PARCLIP_AGO1234\",\n",
    "    \"PARCLIP_ELAVL1\",\n",
    "    \"PARCLIP_ELAVL1A\",\n",
    "    \"PARCLIP_EWSR1\",\n",
    "    \"PARCLIP_FUS\",\n",
    "    \"PARCLIP_HUR\",\n",
    "    \"PARCLIP_IGF2BP123\",\n",
    "    \"PARCLIP_MOV10_Sievers\",\n",
    "    \"PARCLIP_PUM2\",\n",
    "    \"PARCLIP_QKI\",\n",
    "    \"PARCLIP_TAF15\",\n",
    "    \"PTBv1\",\n",
    "    \"ZC3H7B_Baltz2012\",\n",
    "]"
   ]
  },
  {
   "cell_type": "code",
   "execution_count": null,
   "metadata": {},
   "outputs": [],
   "source": [
    "DATASET_NAME = \"ALKBH5_Baltz2012\"\n",
    "debias = \"True\"\n",
    "\n",
    "start = time.time()"
   ]
  },
  {
   "cell_type": "code",
   "execution_count": null,
   "metadata": {},
   "outputs": [],
   "source": [
    "if debias == 'True':\n",
    "    path_template = os.path.join(basedir, 'data', 'GraphProt_CLIP_sequences', 'RNAGraphProb_debias')\n",
    "else:\n",
    "    path_template = os.path.join(basedir, 'data', 'GraphProt_CLIP_sequences', 'RNAGraphProb')\n",
    "if os.path.exists(path_template) is False:\n",
    "    os.mkdir(path_template)\n",
    "path_template = os.path.join(path_template, DATASET_NAME + '.pkl')\n",
    "if os.path.exists(path_template) is True:\n",
    "    print(DATASET_NAME + '.pkl' + \" already exists!\")\n",
    "    exit()\n",
    "with open(path_template, 'wb') as f:\n",
    "    pickle.dump([], f)"
   ]
  },
  {
   "cell_type": "code",
   "execution_count": null,
   "metadata": {},
   "outputs": [],
   "source": [
    "dataset = RNAGraphDatasetDGL(DATASET_NAME, debias=debias)\n",
    "\n",
    "print('Time (sec):', time.time() - start)  # 356s=6min\n",
    "\n",
    "print(len(dataset.train))\n",
    "print(len(dataset.val))\n",
    "print(len(dataset.test))\n",
    "\n",
    "print(dataset.train[0])\n",
    "print(dataset.val[0])\n",
    "print(dataset.test[0])\n",
    "\n",
    "start = time.time()\n",
    "\n",
    "with open(path_template, 'wb') as f:\n",
    "    pickle.dump([dataset.train, dataset.val, dataset.test], f)\n",
    "\n",
    "print('Time (sec):', time.time() - start)  # 38s"
   ]
  },
  {
   "cell_type": "markdown",
   "metadata": {},
   "source": []
  }
 ],
 "metadata": {
  "interpreter": {
   "hash": "ae8cdb07c501344419c2e2fef1930ceb50eef0b1c3f88af6692f725595f5c451"
  },
  "kernelspec": {
   "display_name": "Python 3.6.13 64-bit ('base': conda)",
   "name": "python3"
  },
  "language_info": {
   "codemirror_mode": {
    "name": "ipython",
    "version": 3
   },
   "file_extension": ".py",
   "mimetype": "text/x-python",
   "name": "python",
   "nbconvert_exporter": "python",
   "pygments_lexer": "ipython3",
   "version": "3.6.13"
  },
  "orig_nbformat": 4
 },
 "nbformat": 4,
 "nbformat_minor": 2
}
