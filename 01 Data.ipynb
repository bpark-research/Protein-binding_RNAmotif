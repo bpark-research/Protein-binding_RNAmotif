{
 "cells": [
  {
   "cell_type": "code",
   "execution_count": 4,
   "source": [
    "import time\n",
    "import os\n",
    "import sys\n",
    "import pickle\n",
    "import zipfile\n",
    "from data.RNAGraph import RNAGraphDatasetDGL"
   ],
   "outputs": [],
   "metadata": {}
  },
  {
   "cell_type": "markdown",
   "source": [
    "basedir = os.getcwd()\n",
    "print(basedir)"
   ],
   "metadata": {}
  },
  {
   "cell_type": "markdown",
   "source": [
    "data_zip = zipfile.ZipFile()"
   ],
   "metadata": {}
  },
  {
   "cell_type": "markdown",
   "source": [
    "DATASET_NAME = \"ALKBH5_Baltz2012\"\n",
    "debias = \"True\""
   ],
   "metadata": {}
  },
  {
   "cell_type": "markdown",
   "source": [
    "if debias == 'True':\n",
    "    path_template = os.path.join(basedir, 'data', 'GraphProt_CLIP_sequences', 'RNAGraphProb_debias')\n",
    "else:\n",
    "    path_template = os.path.join(basedir, 'data', 'GraphProt_CLIP_sequences', 'RNAGraphProb')\n",
    "if os.path.exists(path_template) is False:\n",
    "    os.mkdir(path_template)\n",
    "path_template = os.path.join(path_template, DATASET_NAME + '.pkl')\n",
    "if os.path.exists(path_template) is True:\n",
    "    print(DATASET_NAME + '.pkl' + \" already exists!\")\n",
    "    exit()\n",
    "with open(path_template, 'wb') as f:\n",
    "    pickle.dump([], f)"
   ],
   "metadata": {}
  },
  {
   "cell_type": "markdown",
   "source": [
    "dataset = RNAGraphDatasetDGL(DATASET_NAME, debias=debias)\n",
    "\n",
    "print('Time (sec):', time.time() - start)  # 356s=6min\n",
    "\n",
    "print(len(dataset.train))\n",
    "print(len(dataset.val))\n",
    "print(len(dataset.test))\n",
    "\n",
    "print(dataset.train[0])\n",
    "print(dataset.val[0])\n",
    "print(dataset.test[0])\n",
    "\n",
    "start = time.time()\n",
    "\n",
    "with open(path_template, 'wb') as f:\n",
    "    pickle.dump([dataset.train, dataset.val, dataset.test], f)\n",
    "\n",
    "print('Time (sec):', time.time() - start)  # 38s"
   ],
   "metadata": {}
  },
  {
   "cell_type": "markdown",
   "source": [],
   "metadata": {}
  }
 ],
 "metadata": {
  "orig_nbformat": 4,
  "language_info": {
   "name": "python",
   "version": "3.6.13",
   "mimetype": "text/x-python",
   "codemirror_mode": {
    "name": "ipython",
    "version": 3
   },
   "pygments_lexer": "ipython3",
   "nbconvert_exporter": "python",
   "file_extension": ".py"
  },
  "kernelspec": {
   "name": "python3",
   "display_name": "Python 3.6.13 64-bit ('py36': conda)"
  },
  "interpreter": {
   "hash": "71749d6777e802943378fbab78e5b45e2f30d1a375bd4f66ff12efeb8b5e9ebe"
  }
 },
 "nbformat": 4,
 "nbformat_minor": 2
}